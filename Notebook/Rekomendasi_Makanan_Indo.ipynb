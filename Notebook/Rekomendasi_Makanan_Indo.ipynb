{
  "cells": [
    {
      "cell_type": "markdown",
      "source": [
        "# 🚀 Rekomendasi Makanan Indonesia\n",
        "Collaborative Google Colab Template\n",
        "\n",
        "## 👥 Team Members:\n",
        "- Member 1: MC184D5X0482 - Rensa Ayu Lestari - Universitas Andalas\n",
        "- Member 2: MC827D5X0900 - Susi Angelina\n",
        "- Member 3: MC604D5Y0876 - Muhamad Tegar Wijaya\n",
        "\n",
        "## 📌 Objective:\n",
        "Build a machine learning model to recomended food indonesia"
      ],
      "metadata": {
        "id": "uAnQpzNnO5wM"
      }
    },
    {
      "cell_type": "markdown",
      "source": [
        "### 1. Import Library\n",
        "Kita menggunakan library Python berikut untuk membangun model klasifikasi obesitas berbasis TensorFlow:\n",
        "\n",
        "-pandas, numpy: Untuk manipulasi dan analisis data.\n",
        "\n",
        "- sklearn.preprocessing.StandardScaler: Untuk melakukan normalisasi fitur agar model dapat belajar lebih optimal.\n",
        "\n",
        "- sklearn.model_selection.train_test_split: Digunakan untuk membagi dataset menjadi data pelatihan dan pengujian.\n",
        "\n",
        "- tensorflow.keras.models.Sequential & tensorflow.keras.layers.Dense: Untuk membangun arsitektur model deep learning secara berurutan dan fleksibel.\n",
        "\n",
        "- sklearn.metrics.pairwise.cosine_similarity: Opsional, digunakan untuk mengukur kemiripan antar data jika dibutuhkan analisis berbasis jarak atau kemiripan."
      ],
      "metadata": {
        "id": "9brCba2QUnef"
      }
    },
    {
      "cell_type": "code",
      "execution_count": 28,
      "metadata": {
        "id": "MLR9eBHbftdc"
      },
      "outputs": [],
      "source": [
        "import pandas as pd\n",
        "import numpy as np\n",
        "from sklearn.preprocessing import StandardScaler\n",
        "from sklearn.model_selection import train_test_split\n",
        "from tensorflow.keras.models import Sequential\n",
        "from tensorflow.keras.layers import Dense\n",
        "from sklearn.metrics.pairwise import cosine_similarity\n"
      ]
    },
    {
      "cell_type": "markdown",
      "source": [
        "### 2. Load Dataset\n",
        "Dataset dimuat dari file CSV.\n",
        "\n",
        "---"
      ],
      "metadata": {
        "id": "HEnx_365Ur4p"
      }
    },
    {
      "cell_type": "code",
      "execution_count": 29,
      "metadata": {
        "colab": {
          "base_uri": "https://localhost:8080/"
        },
        "id": "A62py2mAi4g1",
        "outputId": "b43448e4-dc4e-42ef-b5d6-b18e1a842aeb"
      },
      "outputs": [
        {
          "output_type": "stream",
          "name": "stdout",
          "text": [
            "   id  calories  proteins   fat  carbohydrate                name  \\\n",
            "0   1     280.0       9.2  28.4           0.0                Abon   \n",
            "1   2     513.0      23.7  37.0          21.3        Abon haruwan   \n",
            "2   3       0.0       0.0   0.2           0.0           Agar-agar   \n",
            "3   4      45.0       1.1   0.4          10.8  Akar tonjong segar   \n",
            "4   5      37.0       4.4   0.5           3.8       Aletoge segar   \n",
            "\n",
            "                                               image  \n",
            "0  https://img-cdn.medkomtek.com/PbrY9X3ignQ8sVuj...  \n",
            "1  https://img-global.cpcdn.com/recipes/cbf330fbd...  \n",
            "2  https://res.cloudinary.com/dk0z4ums3/image/upl...  \n",
            "3  https://images.tokopedia.net/img/cache/200-squ...  \n",
            "4  https://nilaigizi.com/assets/images/produk/pro...  \n"
          ]
        }
      ],
      "source": [
        "data = pd.read_csv('/content/nutrition.csv')  # sesuaikan path-nya\n",
        "print(data.head())\n",
        "\n",
        "data['name_lower'] = data['name'].str.lower()"
      ]
    },
    {
      "cell_type": "markdown",
      "source": [
        "### 3. Data Preprocessing\n",
        "**Hapus Missing Value:**\n",
        "- data.dropna(inplace=True)\n",
        "Menghapus baris data yang memiliki nilai kosong agar tidak mengganggu proses analisis atau pelatihan model.\n",
        "\n",
        "**Membersihkan Kolom 'name':**\n",
        "- data['name_clean'] = data['name'].str.lower().str.strip()\n",
        "Membersihkan teks pada kolom name dengan mengubah huruf menjadi kecil (lowercase) dan menghapus spasi di awal/akhir kata.\n",
        "\n",
        "**Memilih Fitur yang Relevan:**\n",
        "- X = data[['calories', 'proteins', 'fat', 'carbohydrate']]\n",
        "Menentukan fitur numerik yang akan digunakan dalam model, yaitu kalori, protein, lemak, dan karbohidrat.\n",
        "\n",
        "**Normalisasi Data:**\n",
        "- scaler = StandardScaler()\n",
        "- scaled_features = scaler.fit_transform(data[features])\n",
        "- Melakukan standardisasi (normalisasi) agar data berada dalam skala yang sama (mean = 0, std = 1),\n",
        "\n",
        "**Menyimpan Data yang Telah Dinormalisasi:**\n",
        "- X = pd.DataFrame(scaled_features, columns=features)\n",
        "- Hasil normalisasi dikonversi kembali ke dalam bentuk DataFrame agar lebih mudah diproses ke tahap berikutnya.\n"
      ],
      "metadata": {
        "id": "wjjm3YPCUvjK"
      }
    },
    {
      "cell_type": "code",
      "execution_count": 30,
      "metadata": {
        "id": "pzSycI9Vi7xY"
      },
      "outputs": [],
      "source": [
        "# Hapus missing value (atau bisa pakai imputasi jika perlu)\n",
        "data.dropna(inplace=True)\n",
        "\n",
        "data['name_clean'] = data['name'].str.lower().str.strip()\n",
        "\n",
        "\n",
        "X = data[['calories', 'proteins', 'fat', 'carbohydrate']]\n",
        "\n",
        "# Normalisasi kolom numerik\n",
        "features = ['calories', 'proteins', 'fat', 'carbohydrate']\n",
        "scaler = StandardScaler()\n",
        "X_scaled = scaler.fit_transform(X)\n",
        "scaled_features = scaler.fit_transform(data[features])\n",
        "\n",
        "# Simpan data yang telah dinormalisasi ke dataframe baru\n",
        "X = pd.DataFrame(scaled_features, columns=features)\n"
      ]
    },
    {
      "cell_type": "markdown",
      "source": [
        "### 4. Split Dataset\n",
        "Membagi dataset menjadi data latih dan data uji:\n",
        "\n",
        "- X adalah data fitur yang sudah dinormalisasi.\n",
        "\n",
        "- test_size=0.2 berarti 20% data digunakan sebagai data uji (test set), dan 80% sebagai data latih (train set).\n",
        "\n",
        "- random_state=42 digunakan agar hasil pembagian data konsisten setiap kali dijalankan (reproducible).\n"
      ],
      "metadata": {
        "id": "zNmGvO8vUyi0"
      }
    },
    {
      "cell_type": "code",
      "execution_count": 31,
      "metadata": {
        "id": "4hG4o4DUi-Up"
      },
      "outputs": [],
      "source": [
        "X_train, X_test = train_test_split(X, test_size=0.2, random_state=42)\n"
      ]
    },
    {
      "cell_type": "markdown",
      "source": [
        "### 5. Model Machine Learning\n",
        "**Membangun model Neural Network dengan Sequential:**\n",
        "\n",
        "- Layer 1: Dense(64, activation='relu')\n",
        "Layer pertama dengan 64 neuron dan fungsi aktivasi ReLU, menerima input sebanyak 4 fitur.\n",
        "\n",
        "- Layer 2: Dense(32, activation='relu')\n",
        "Layer tersembunyi kedua dengan 32 neuron, juga menggunakan aktivasi ReLU.\n",
        "\n",
        "- Output Layer: Dense(4, activation='linear')\n",
        "Layer output dengan 4 neuron dan aktivasi linear, digunakan untuk regresi terhadap 4 nilai kontinu (seperti kalori, protein, lemak, karbohidrat).\n",
        "\n",
        "**Menyusun model dengan compile:**\n",
        "- Optimizer: adam, digunakan untuk mengoptimalkan proses pembelajaran model.\n",
        "\n",
        "- Loss Function: mse (Mean Squared Error), cocok untuk kasus regresi karena menghitung rata-rata kuadrat selisih antara prediksi dan nilai aktual.\n",
        "---"
      ],
      "metadata": {
        "id": "Btf7S80NU1Hy"
      }
    },
    {
      "cell_type": "code",
      "execution_count": 32,
      "metadata": {
        "colab": {
          "base_uri": "https://localhost:8080/"
        },
        "id": "MN807RxdjBCF",
        "outputId": "4c3dcbb8-3174-408d-ae12-80f1fdaf70c4"
      },
      "outputs": [
        {
          "output_type": "stream",
          "name": "stderr",
          "text": [
            "/usr/local/lib/python3.11/dist-packages/keras/src/layers/core/dense.py:87: UserWarning: Do not pass an `input_shape`/`input_dim` argument to a layer. When using Sequential models, prefer using an `Input(shape)` object as the first layer in the model instead.\n",
            "  super().__init__(activity_regularizer=activity_regularizer, **kwargs)\n"
          ]
        }
      ],
      "source": [
        "model = Sequential([\n",
        "    Dense(64, activation='relu', input_shape=(4,)),\n",
        "    Dense(32, activation='relu'),\n",
        "    Dense(4, activation='linear')  # Output tetap 4 fitur\n",
        "])\n",
        "\n",
        "model.compile(optimizer='adam', loss='mse')\n"
      ]
    },
    {
      "cell_type": "markdown",
      "source": [
        "#Train Model\n",
        "**Melatih model dengan data latih:**\n",
        "- X_train sebagai input dan target:\n",
        "Karena input dan target sama (X_train, X_train), ini menyerupai autoencoder, yaitu model belajar merekonstruksi data input itu sendiri.\n",
        "\n",
        "- epochs=50:\n",
        "Model akan dilatih selama 50 siklus penuh terhadap seluruh dataset.\n",
        "\n",
        "- batch_size=8:\n",
        "Model memproses data dalam kelompok kecil berisi 8 sampel sekaligus saat satu langkah training.\n",
        "\n",
        "- verbose=0:\n",
        "Training dijalankan tanpa menampilkan log proses di terminal (mode diam)."
      ],
      "metadata": {
        "id": "nwFYhFMpU5V9"
      }
    },
    {
      "cell_type": "code",
      "execution_count": 33,
      "metadata": {
        "colab": {
          "base_uri": "https://localhost:8080/"
        },
        "id": "EvolOr3rjCqG",
        "outputId": "ce789e01-bcc6-4331-b2d1-558139fab791"
      },
      "outputs": [
        {
          "output_type": "execute_result",
          "data": {
            "text/plain": [
              "<keras.src.callbacks.history.History at 0x7b27b1032cd0>"
            ]
          },
          "metadata": {},
          "execution_count": 33
        }
      ],
      "source": [
        "model.fit(X_train, X_train, epochs=50, batch_size=8, verbose=0)\n",
        "# Ini mirip autoencoder: input dan target sama => belajar representasi makanan\n"
      ]
    },
    {
      "cell_type": "markdown",
      "source": [
        "# 6. Validation Statistik (opsional lanjutan)\n"
      ],
      "metadata": {
        "id": "L7qOJKXkU-IW"
      }
    },
    {
      "cell_type": "markdown",
      "source": [
        "# Visualisasi Error Model (Validation MSE)\n",
        "- Membuat visualisai Error Model"
      ],
      "metadata": {
        "id": "QnUj4yU9U-5O"
      }
    },
    {
      "cell_type": "code",
      "source": [
        "import matplotlib.pyplot as plt\n",
        "\n",
        "# === Visualisasi MSE pada Data Validasi ===\n",
        "fig, ax = plt.subplots(figsize=(5, 4))\n",
        "bar = ax.bar(['Validation MSE'], [mse], color='mediumseagreen')\n",
        "\n",
        "# Tampilkan nilai di atas bar\n",
        "for rect in bar:\n",
        "    height = rect.get_height()\n",
        "    ax.annotate(f'{height:.4f}',\n",
        "                xy=(rect.get_x() + rect.get_width() / 2, height),\n",
        "                xytext=(0, 5),  # offset teks\n",
        "                textcoords=\"offset points\",\n",
        "                ha='center', va='bottom', fontsize=10)\n",
        "\n",
        "ax.set_ylabel(\"MSE\")\n",
        "ax.set_title(\"📉 Validation Mean Squared Error\")\n",
        "plt.tight_layout()\n",
        "plt.show()\n"
      ],
      "metadata": {
        "colab": {
          "base_uri": "https://localhost:8080/",
          "height": 476
        },
        "id": "zsmtyjV5p5RA",
        "outputId": "5d739b1a-e577-4a3c-90d5-858b99ede6a3"
      },
      "execution_count": 34,
      "outputs": [
        {
          "output_type": "stream",
          "name": "stderr",
          "text": [
            "<ipython-input-34-1752464742>:18: UserWarning: Glyph 128201 (\\N{CHART WITH DOWNWARDS TREND}) missing from font(s) DejaVu Sans.\n",
            "  plt.tight_layout()\n",
            "/usr/local/lib/python3.11/dist-packages/IPython/core/pylabtools.py:151: UserWarning: Glyph 128201 (\\N{CHART WITH DOWNWARDS TREND}) missing from font(s) DejaVu Sans.\n",
            "  fig.canvas.print_figure(bytes_io, **kw)\n"
          ]
        },
        {
          "output_type": "display_data",
          "data": {
            "text/plain": [
              "<Figure size 500x400 with 1 Axes>"
            ],
            "image/png": "[encoded data removed]"
          },
          "metadata": {}
        }
      ]
    },
    {
      "cell_type": "markdown",
      "source": [
        "# Visualisasi Training dan Validation Loss\n",
        "- Menampilkan visualisai training dan validation loss"
      ],
      "metadata": {
        "id": "sJ32v_rWVGBZ"
      }
    },
    {
      "cell_type": "code",
      "source": [
        "plt.figure(figsize=(10, 6))\n",
        "plt.plot(history.history['loss'], label='Train Loss')\n",
        "plt.plot(history.history['val_loss'], label='Validation Loss')\n",
        "plt.xlabel(\"Epochs\")\n",
        "plt.ylabel(\"Loss\")\n",
        "plt.legend()\n",
        "plt.title(\"Training vs Validation Loss (MSE)\")\n",
        "plt.grid(True)\n",
        "plt.show()\n"
      ],
      "metadata": {
        "colab": {
          "base_uri": "https://localhost:8080/",
          "height": 564
        },
        "id": "i3WMljfLqyn-",
        "outputId": "3b84e8f8-2707-4baa-9527-724526321cfd"
      },
      "execution_count": 38,
      "outputs": [
        {
          "output_type": "display_data",
          "data": {
            "text/plain": [
              "<Figure size 1000x600 with 1 Axes>"
            ],
            "image/png": "[encoded data removed]"
          },
          "metadata": {}
        }
      ]
    },
    {
      "cell_type": "code",
      "execution_count": 36,
      "metadata": {
        "id": "ih1WPVVijGdI"
      },
      "outputs": [],
      "source": [
        "from IPython.display import Image, display\n",
        "from urllib.request import urlopen\n",
        "from urllib.error import URLError, HTTPError\n",
        "\n",
        "def recommend_food(food_name, top_n=3):\n",
        "    # Preprocessing input: lowercase dan strip spasi\n",
        "    food_name_clean = food_name.lower().strip()\n",
        "\n",
        "    # Siapkan kolom bantu yang sudah dibersihkan juga (lower + strip)\n",
        "    if 'name_clean' not in data.columns:\n",
        "        data['name_clean'] = data['name'].str.lower().str.strip()\n",
        "\n",
        "    # Cek apakah makanan tersedia\n",
        "    if food_name_clean not in data['name_clean'].values:\n",
        "        # Coba cari suggestion jika user typo atau beda format\n",
        "        suggestions = data[data['name_clean'].str.contains(food_name_clean, na=False)]\n",
        "        if not suggestions.empty:\n",
        "            print(\"❌ Makanan tidak ditemukan. Apakah maksud Anda salah satu dari berikut?\")\n",
        "            print(suggestions['name'].tolist())\n",
        "        else:\n",
        "            print(\"❌ Maaf, dataset belum memiliki data makanan tersebut.\")\n",
        "        return\n",
        "\n",
        "    # Ambil index makanan\n",
        "    food_index = data[data['name_clean'] == food_name_clean].index[0]\n",
        "    input_nutrisi = X_scaled[food_index].reshape(1, -1)\n",
        "\n",
        "    # Embedding\n",
        "    input_embed = model.predict(input_nutrisi, verbose=0)\n",
        "    all_embeddings = model.predict(X_scaled, verbose=0)\n",
        "\n",
        "    # Cosine similarity\n",
        "    similarities = cosine_similarity(input_embed, all_embeddings)[0]\n",
        "    similar_indices = similarities.argsort()[::-1][1:top_n+1]\n",
        "\n",
        "    # Info makanan input\n",
        "    nama_input = data.loc[food_index, 'name']\n",
        "    print(f\"\\n🍽️ Informasi Gizi '{nama_input}':\")\n",
        "    print(data.loc[food_index, ['calories', 'proteins', 'fat', 'carbohydrate']])\n",
        "    print(\"📷 Gambar Makanan:\")\n",
        "    try:\n",
        "        display(Image(url=data.loc[food_index, 'image']))\n",
        "    except (HTTPError, URLError):\n",
        "        print(\"🚫 Gambar tidak tersedia\")\n",
        "\n",
        "    # Rekomendasi\n",
        "    print(f\"\\n🔁 Rekomendasi makanan dengan gizi mirip:\\n\")\n",
        "    for idx in similar_indices:\n",
        "        name = data.loc[idx, 'name']\n",
        "        nutrisi = data.loc[idx, ['calories', 'proteins', 'fat', 'carbohydrate']]\n",
        "        img_url = data.loc[idx, 'image']\n",
        "\n",
        "        print(f\"🍽️ {name}\")\n",
        "        print(nutrisi)\n",
        "        print(\"📷 Gambar:\")\n",
        "        try:\n",
        "            display(Image(url=img_url))\n",
        "        except (HTTPError, URLError):\n",
        "            print(\"🚫 Gambar tidak tersedia\")\n",
        "        print(\"—\" * 40)\n"
      ]
    },
    {
      "cell_type": "code",
      "execution_count": 37,
      "metadata": {
        "colab": {
          "base_uri": "https://localhost:8080/",
          "height": 1000
        },
        "id": "c_Sns2_djx2w",
        "outputId": "d0f05bef-2bb2-4ae1-be70-67b9c0b8bec3"
      },
      "outputs": [
        {
          "output_type": "stream",
          "name": "stdout",
          "text": [
            "\n",
            "🍽️ Informasi Gizi 'Abon':\n",
            "calories        280.0\n",
            "proteins          9.2\n",
            "fat              28.4\n",
            "carbohydrate      0.0\n",
            "Name: 0, dtype: object\n",
            "📷 Gambar Makanan:\n"
          ]
        },
        {
          "output_type": "display_data",
          "data": {
            "text/html": [
              "<img src=\"https://img-cdn.medkomtek.com/PbrY9X3ignQ8sVuj_LU9UXljyew=/0x0/smart/filters:quality(75):strip_icc():format(webp)/article/7g8ceHGDNMuttlBcXEl8d/original/099726800_1605161502-Mana-yang-Lebih-Sehat-Abon-Sapi-atau-Abon-Ayam-shutterstock_1361446550.jpg\"/>"
            ],
            "text/plain": [
              "<IPython.core.display.Image object>"
            ]
          },
          "metadata": {}
        },
        {
          "output_type": "stream",
          "name": "stdout",
          "text": [
            "\n",
            "🔁 Rekomendasi makanan dengan gizi mirip:\n",
            "\n",
            "🍽️ Ikan Asin sirinding goreng\n",
            "calories        319.0\n",
            "proteins          6.9\n",
            "fat              31.7\n",
            "carbohydrate      0.0\n",
            "Name: 416, dtype: object\n",
            "📷 Gambar:\n"
          ]
        },
        {
          "output_type": "display_data",
          "data": {
            "text/html": [
              "<img src=\"https://images.tokopedia.net/img/cache/700/product-1/2020/2/4/7723047/7723047_740a394f-4f87-467c-bb24-6ff77d857edd_1224_1224.jpg\"/>"
            ],
            "text/plain": [
              "<IPython.core.display.Image object>"
            ]
          },
          "metadata": {}
        },
        {
          "output_type": "stream",
          "name": "stdout",
          "text": [
            "————————————————————————————————————————\n",
            "🍽️ Bebek alabio daging segar\n",
            "calories        303.0\n",
            "proteins         11.3\n",
            "fat              27.0\n",
            "carbohydrate      3.7\n",
            "Name: 87, dtype: object\n",
            "📷 Gambar:\n"
          ]
        },
        {
          "output_type": "display_data",
          "data": {
            "text/html": [
              "<img src=\"https://medioenblog.files.wordpress.com/2018/02/bebek.jpg\"/>"
            ],
            "text/plain": [
              "<IPython.core.display.Image object>"
            ]
          },
          "metadata": {}
        },
        {
          "output_type": "stream",
          "name": "stdout",
          "text": [
            "————————————————————————————————————————\n",
            "🍽️ Pencok lele masakan\n",
            "calories        372.0\n",
            "proteins          7.8\n",
            "fat              36.3\n",
            "carbohydrate      3.5\n",
            "Name: 976, dtype: object\n",
            "📷 Gambar:\n"
          ]
        },
        {
          "output_type": "display_data",
          "data": {
            "text/html": [
              "<img src=\"https://img-global.cpcdn.com/recipes/385569312441e99f/680x482cq70/pencok-lele-foto-resep-utama.jpg\"/>"
            ],
            "text/plain": [
              "<IPython.core.display.Image object>"
            ]
          },
          "metadata": {}
        },
        {
          "output_type": "stream",
          "name": "stdout",
          "text": [
            "————————————————————————————————————————\n"
          ]
        }
      ],
      "source": [
        "recommend_food(\"Abon\", top_n=3)"
      ]
    },
    {
      "cell_type": "code",
      "execution_count": null,
      "metadata": {
        "id": "-mnT-OgoIZpc"
      },
      "outputs": [],
      "source": [
        "model.save(\"nutrisi_rekomendasi.keras\")\n"
      ]
    },
    {
      "cell_type": "code",
      "execution_count": null,
      "metadata": {
        "colab": {
          "base_uri": "https://localhost:8080/"
        },
        "id": "ifHslfLUJt2m",
        "outputId": "9a85d492-1945-4bf9-f2de-a202d9ae5ffb"
      },
      "outputs": [
        {
          "data": {
            "text/plain": [
              "['scaler_nutrisi.pkl']"
            ]
          },
          "execution_count": 10,
          "metadata": {},
          "output_type": "execute_result"
        }
      ],
      "source": [
        "import joblib\n",
        "joblib.dump(scaler, \"scaler_nutrisi.pkl\")\n"
      ]
    }
  ],
  "metadata": {
    "colab": {
      "provenance": []
    },
    "kernelspec": {
      "display_name": "Python 3",
      "name": "python3"
    },
    "language_info": {
      "name": "python"
    }
  },
  "nbformat": 4,
  "nbformat_minor": 0
}